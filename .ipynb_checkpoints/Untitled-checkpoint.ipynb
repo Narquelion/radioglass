{
 "cells": [
  {
   "cell_type": "code",
   "execution_count": 29,
   "metadata": {},
   "outputs": [],
   "source": [
    "ss= ''' \n",
    "FENG: I think I made a few friends today.\n",
    "    REN: Wow, are you replacing us already?\n",
    "    FENG: Ha, ha. No, the glowdents let me into their home. It’s...actually really nice in here.\n",
    "    AXEL: That’s impressive. Hopefully it didn’t take too long. \n",
    "    FENG: Oh, wait. From the other side of the lair! There’s light coming in! I think I can see a path! \n",
    "    AXEL: What’s on the other side?\n",
    "    FENG: No idea—I don’t think I’ve been this way before.\n",
    "    REN: What are you waiting for? Go see what’s out there!\n",
    "FENG: Yeah!...Well, I’m gonna spend a few more minutes in this place. I want to sketch it, so I don’t forget it. \n",
    "REN: And then?\n",
    "FENG: Onwards!\n",
    "\n",
    "'''\n",
    "import pprint"
   ]
  },
  {
   "cell_type": "code",
   "execution_count": 30,
   "metadata": {},
   "outputs": [
    {
     "name": "stdout",
     "output_type": "stream",
     "text": [
      "a[0,0] = feng\n",
      "a[1,0] = ren\n",
      "a[2,0] = feng\n",
      "a[3,0] = axel\n",
      "a[4,0] = ren\n",
      "a[5,0] = feng\n",
      "a[0,1] = \"* Hey, guys.\"\n",
      "a[1,1] = \"* Oh, look. Feng’s not dead. Pay up. \"\n",
      "a[2,1] = \"* Did you guys bet on me being dead?\"\n",
      "a[3,1] = \"* She’s joking. I would never bet about something so important as your well-being. \"\n",
      "a[4,1] = \"* He owes me two dollars. \"\n",
      "a[5,1] = \"* Well, the joke is on you two. I’m seeing something really cool right now. \"\n"
     ]
    }
   ],
   "source": [
    "\n",
    "l = list(map(lambda x: x.split(\" \")[0][:-1],ss.split(\"\\n\")[1:-1]))\n",
    "for i in range(len(l)):\n",
    "    s = \"a[\" + str(i)+\",0]\"+ \" = \" + '{}'.format(l[i].lower())\n",
    "    print(s)\n",
    "l = list(map(lambda x: \" \".join(x.split(\" \")[1:]),ss.split(\"\\n\")[1:-1]))\n",
    "for i in range(len(l)):\n",
    "    s = \"a[\" + str(i)+\",1]\"+ \" = \" + '\"* {}\"'.format(l[i])\n",
    "    print(s)"
   ]
  }
 ],
 "metadata": {
  "kernelspec": {
   "display_name": "Python 3",
   "language": "python",
   "name": "python3"
  },
  "language_info": {
   "codemirror_mode": {
    "name": "ipython",
    "version": 3
   },
   "file_extension": ".py",
   "mimetype": "text/x-python",
   "name": "python",
   "nbconvert_exporter": "python",
   "pygments_lexer": "ipython3",
   "version": "3.7.3"
  }
 },
 "nbformat": 4,
 "nbformat_minor": 2
}
